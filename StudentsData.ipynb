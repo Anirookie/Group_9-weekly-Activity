{
 "cells": [
  {
   "cell_type": "markdown",
   "id": "08946678",
   "metadata": {},
   "source": [
    "# Supervised Learning\n",
    "# Activity: Building a Student Intervention System"
   ]
  },
  {
   "cell_type": "markdown",
   "id": "1a09c34e",
   "metadata": {},
   "source": [
    "# Question 1 - Classification vs. Regression\n",
    "Your goal for this project is to identify students who might need early intervention before they fail or pass.\n",
    "Which type of supervised learning problem is this, classification or regression? Why?"
   ]
  },
  {
   "cell_type": "markdown",
   "id": "850b2972",
   "metadata": {},
   "source": [
    "**This is a Classification problem, because there are two discrete outcomes which deals with 'yes' or 'no' question.\n",
    "i.e, to predict whether a student is going to be successful or not.**"
   ]
  },
  {
   "cell_type": "markdown",
   "id": "5436fbd1",
   "metadata": {},
   "source": [
    "# Question-2\n",
    "load necessary Python libraries and load the student data. Note that the last column from this dataset, 'passed',\n",
    "will be our target label (whether the student graduated or didn't graduate). All other columns are features about each student."
   ]
  },
  {
   "cell_type": "code",
   "execution_count": 1,
   "id": "10b7d093",
   "metadata": {},
   "outputs": [],
   "source": [
    "import numpy as np\n",
    "import pandas as pd\n",
    "\n",
    "import matplotlib.pyplot as plt\n",
    "import seaborn as sns"
   ]
  },
  {
   "cell_type": "code",
   "execution_count": 2,
   "id": "38709bf1",
   "metadata": {},
   "outputs": [
    {
     "data": {
      "text/html": [
       "<div>\n",
       "<style scoped>\n",
       "    .dataframe tbody tr th:only-of-type {\n",
       "        vertical-align: middle;\n",
       "    }\n",
       "\n",
       "    .dataframe tbody tr th {\n",
       "        vertical-align: top;\n",
       "    }\n",
       "\n",
       "    .dataframe thead th {\n",
       "        text-align: right;\n",
       "    }\n",
       "</style>\n",
       "<table border=\"1\" class=\"dataframe\">\n",
       "  <thead>\n",
       "    <tr style=\"text-align: right;\">\n",
       "      <th></th>\n",
       "      <th>school</th>\n",
       "      <th>sex</th>\n",
       "      <th>age</th>\n",
       "      <th>address</th>\n",
       "      <th>famsize</th>\n",
       "      <th>Pstatus</th>\n",
       "      <th>Medu</th>\n",
       "      <th>Fedu</th>\n",
       "      <th>Mjob</th>\n",
       "      <th>Fjob</th>\n",
       "      <th>...</th>\n",
       "      <th>internet</th>\n",
       "      <th>romantic</th>\n",
       "      <th>famrel</th>\n",
       "      <th>freetime</th>\n",
       "      <th>goout</th>\n",
       "      <th>Dalc</th>\n",
       "      <th>Walc</th>\n",
       "      <th>health</th>\n",
       "      <th>absences</th>\n",
       "      <th>passed</th>\n",
       "    </tr>\n",
       "  </thead>\n",
       "  <tbody>\n",
       "    <tr>\n",
       "      <th>0</th>\n",
       "      <td>GP</td>\n",
       "      <td>F</td>\n",
       "      <td>18</td>\n",
       "      <td>U</td>\n",
       "      <td>GT3</td>\n",
       "      <td>A</td>\n",
       "      <td>4</td>\n",
       "      <td>4</td>\n",
       "      <td>at_home</td>\n",
       "      <td>teacher</td>\n",
       "      <td>...</td>\n",
       "      <td>no</td>\n",
       "      <td>no</td>\n",
       "      <td>4</td>\n",
       "      <td>3</td>\n",
       "      <td>4</td>\n",
       "      <td>1</td>\n",
       "      <td>1</td>\n",
       "      <td>3</td>\n",
       "      <td>6</td>\n",
       "      <td>no</td>\n",
       "    </tr>\n",
       "    <tr>\n",
       "      <th>1</th>\n",
       "      <td>GP</td>\n",
       "      <td>F</td>\n",
       "      <td>17</td>\n",
       "      <td>U</td>\n",
       "      <td>GT3</td>\n",
       "      <td>T</td>\n",
       "      <td>1</td>\n",
       "      <td>1</td>\n",
       "      <td>at_home</td>\n",
       "      <td>other</td>\n",
       "      <td>...</td>\n",
       "      <td>yes</td>\n",
       "      <td>no</td>\n",
       "      <td>5</td>\n",
       "      <td>3</td>\n",
       "      <td>3</td>\n",
       "      <td>1</td>\n",
       "      <td>1</td>\n",
       "      <td>3</td>\n",
       "      <td>4</td>\n",
       "      <td>no</td>\n",
       "    </tr>\n",
       "    <tr>\n",
       "      <th>2</th>\n",
       "      <td>GP</td>\n",
       "      <td>F</td>\n",
       "      <td>15</td>\n",
       "      <td>U</td>\n",
       "      <td>LE3</td>\n",
       "      <td>T</td>\n",
       "      <td>1</td>\n",
       "      <td>1</td>\n",
       "      <td>at_home</td>\n",
       "      <td>other</td>\n",
       "      <td>...</td>\n",
       "      <td>yes</td>\n",
       "      <td>no</td>\n",
       "      <td>4</td>\n",
       "      <td>3</td>\n",
       "      <td>2</td>\n",
       "      <td>2</td>\n",
       "      <td>3</td>\n",
       "      <td>3</td>\n",
       "      <td>10</td>\n",
       "      <td>yes</td>\n",
       "    </tr>\n",
       "    <tr>\n",
       "      <th>3</th>\n",
       "      <td>GP</td>\n",
       "      <td>F</td>\n",
       "      <td>15</td>\n",
       "      <td>U</td>\n",
       "      <td>GT3</td>\n",
       "      <td>T</td>\n",
       "      <td>4</td>\n",
       "      <td>2</td>\n",
       "      <td>health</td>\n",
       "      <td>services</td>\n",
       "      <td>...</td>\n",
       "      <td>yes</td>\n",
       "      <td>yes</td>\n",
       "      <td>3</td>\n",
       "      <td>2</td>\n",
       "      <td>2</td>\n",
       "      <td>1</td>\n",
       "      <td>1</td>\n",
       "      <td>5</td>\n",
       "      <td>2</td>\n",
       "      <td>yes</td>\n",
       "    </tr>\n",
       "    <tr>\n",
       "      <th>4</th>\n",
       "      <td>GP</td>\n",
       "      <td>F</td>\n",
       "      <td>16</td>\n",
       "      <td>U</td>\n",
       "      <td>GT3</td>\n",
       "      <td>T</td>\n",
       "      <td>3</td>\n",
       "      <td>3</td>\n",
       "      <td>other</td>\n",
       "      <td>other</td>\n",
       "      <td>...</td>\n",
       "      <td>no</td>\n",
       "      <td>no</td>\n",
       "      <td>4</td>\n",
       "      <td>3</td>\n",
       "      <td>2</td>\n",
       "      <td>1</td>\n",
       "      <td>2</td>\n",
       "      <td>5</td>\n",
       "      <td>4</td>\n",
       "      <td>yes</td>\n",
       "    </tr>\n",
       "  </tbody>\n",
       "</table>\n",
       "<p>5 rows × 31 columns</p>\n",
       "</div>"
      ],
      "text/plain": [
       "  school sex  age address famsize Pstatus  Medu  Fedu     Mjob      Fjob  ...  \\\n",
       "0     GP   F   18       U     GT3       A     4     4  at_home   teacher  ...   \n",
       "1     GP   F   17       U     GT3       T     1     1  at_home     other  ...   \n",
       "2     GP   F   15       U     LE3       T     1     1  at_home     other  ...   \n",
       "3     GP   F   15       U     GT3       T     4     2   health  services  ...   \n",
       "4     GP   F   16       U     GT3       T     3     3    other     other  ...   \n",
       "\n",
       "  internet romantic  famrel  freetime  goout Dalc Walc health absences passed  \n",
       "0       no       no       4         3      4    1    1      3        6     no  \n",
       "1      yes       no       5         3      3    1    1      3        4     no  \n",
       "2      yes       no       4         3      2    2    3      3       10    yes  \n",
       "3      yes      yes       3         2      2    1    1      5        2    yes  \n",
       "4       no       no       4         3      2    1    2      5        4    yes  \n",
       "\n",
       "[5 rows x 31 columns]"
      ]
     },
     "execution_count": 2,
     "metadata": {},
     "output_type": "execute_result"
    }
   ],
   "source": [
    "df = pd.read_csv('student-data.csv')\n",
    "df.head()"
   ]
  },
  {
   "cell_type": "code",
   "execution_count": 3,
   "id": "da2607b8",
   "metadata": {},
   "outputs": [
    {
     "data": {
      "text/plain": [
       "(395, 31)"
      ]
     },
     "execution_count": 3,
     "metadata": {},
     "output_type": "execute_result"
    }
   ],
   "source": [
    "df.shape"
   ]
  },
  {
   "cell_type": "markdown",
   "id": "1ef096ba",
   "metadata": {},
   "source": [
    "# Question-3\n",
    "Let's begin by investigating the dataset to determine how many students we have information on, and learn about the graduation rate among these students. In the code cell below, you will need to compute the following:\n",
    "\n",
    " - The total number of students, n_students.\n",
    " - The total number of features for each student, n_features.\n",
    " - The number of those students who passed, n_passed.\n",
    " - The number of those students who failed, n_failed.\n",
    " - The graduation rate of the class, grad_rate, in percent (%)."
   ]
  },
  {
   "cell_type": "code",
   "execution_count": 4,
   "id": "ea150d95",
   "metadata": {},
   "outputs": [],
   "source": [
    "# Calculate number of students\n",
    "n_students = len(df)"
   ]
  },
  {
   "cell_type": "code",
   "execution_count": 5,
   "id": "fe56fd37",
   "metadata": {},
   "outputs": [],
   "source": [
    "# Calculate number of features\n",
    "n_features = len(df.keys())-1"
   ]
  },
  {
   "cell_type": "code",
   "execution_count": 6,
   "id": "d3650ed6",
   "metadata": {},
   "outputs": [],
   "source": [
    "# Calculate passing students\n",
    "n_passed = len(df[df['passed']=='yes'])"
   ]
  },
  {
   "cell_type": "code",
   "execution_count": 7,
   "id": "7a11e16a",
   "metadata": {},
   "outputs": [],
   "source": [
    "# Calculate failing students\n",
    "n_failed = len(df[df['passed']=='no'])"
   ]
  },
  {
   "cell_type": "code",
   "execution_count": 8,
   "id": "926e6807",
   "metadata": {},
   "outputs": [],
   "source": [
    "# Calculate graduation rate\n",
    "grad_rate = n_passed/n_students*100"
   ]
  },
  {
   "cell_type": "code",
   "execution_count": 9,
   "id": "b745dce1",
   "metadata": {},
   "outputs": [
    {
     "name": "stdout",
     "output_type": "stream",
     "text": [
      "Total number of students: 395\n",
      "Number of features: 30\n",
      "Number of students who passed: 265\n",
      "Number of students who failed: 130\n",
      "Graduation rate of the class: 67.09%\n"
     ]
    }
   ],
   "source": [
    "# Print the results\n",
    "print(\"Total number of students: {}\".format(n_students))\n",
    "print(\"Number of features: {}\".format(n_features))\n",
    "print(\"Number of students who passed: {}\".format(n_passed))\n",
    "print(\"Number of students who failed: {}\".format(n_failed))\n",
    "print(\"Graduation rate of the class: {:.2f}%\".format(grad_rate))"
   ]
  },
  {
   "cell_type": "markdown",
   "id": "318d6b94",
   "metadata": {},
   "source": [
    "# Question-4 \n",
    "Identify feature and target columns\n",
    "separate the student data into feature and target columns to see if any features are non-numeric."
   ]
  },
  {
   "cell_type": "code",
   "execution_count": 10,
   "id": "c36acd3a",
   "metadata": {},
   "outputs": [
    {
     "name": "stdout",
     "output_type": "stream",
     "text": [
      "Feature columns:\n",
      "['school', 'sex', 'age', 'address', 'famsize', 'Pstatus', 'Medu', 'Fedu', 'Mjob', 'Fjob', 'reason', 'guardian', 'traveltime', 'studytime', 'failures', 'schoolsup', 'famsup', 'paid', 'activities', 'nursery', 'higher', 'internet', 'romantic', 'famrel', 'freetime', 'goout', 'Dalc', 'Walc', 'health', 'absences']\n"
     ]
    }
   ],
   "source": [
    "# Extract feature columns\n",
    "feature_cols = list(df.columns[:-1])\n",
    "print(\"Feature columns:\\n{}\".format(feature_cols))"
   ]
  },
  {
   "cell_type": "code",
   "execution_count": 11,
   "id": "a8ee1a8a",
   "metadata": {},
   "outputs": [
    {
     "name": "stdout",
     "output_type": "stream",
     "text": [
      "Target column: passed\n"
     ]
    }
   ],
   "source": [
    "# Extract target column 'passed'\n",
    "target_col = df.columns[-1]\n",
    "print(\"Target column: {}\".format(target_col))"
   ]
  },
  {
   "cell_type": "code",
   "execution_count": 12,
   "id": "c3a5d01a",
   "metadata": {},
   "outputs": [],
   "source": [
    "# Separate the data into feature data and target data (X and y, respectively)\n",
    "x = df[feature_cols]\n",
    "y = df[target_col]"
   ]
  },
  {
   "cell_type": "code",
   "execution_count": 13,
   "id": "94d3d5b4",
   "metadata": {},
   "outputs": [
    {
     "name": "stdout",
     "output_type": "stream",
     "text": [
      "\n",
      "Feature values:\n",
      "  school sex  age address famsize Pstatus  Medu  Fedu     Mjob      Fjob  ...  \\\n",
      "0     GP   F   18       U     GT3       A     4     4  at_home   teacher  ...   \n",
      "1     GP   F   17       U     GT3       T     1     1  at_home     other  ...   \n",
      "2     GP   F   15       U     LE3       T     1     1  at_home     other  ...   \n",
      "3     GP   F   15       U     GT3       T     4     2   health  services  ...   \n",
      "4     GP   F   16       U     GT3       T     3     3    other     other  ...   \n",
      "\n",
      "  higher internet  romantic  famrel  freetime goout Dalc Walc health absences  \n",
      "0    yes       no        no       4         3     4    1    1      3        6  \n",
      "1    yes      yes        no       5         3     3    1    1      3        4  \n",
      "2    yes      yes        no       4         3     2    2    3      3       10  \n",
      "3    yes      yes       yes       3         2     2    1    1      5        2  \n",
      "4    yes       no        no       4         3     2    1    2      5        4  \n",
      "\n",
      "[5 rows x 30 columns]\n"
     ]
    }
   ],
   "source": [
    "print(\"\\nFeature values:\")\n",
    "print(x.head())"
   ]
  },
  {
   "cell_type": "markdown",
   "id": "fee021b1",
   "metadata": {},
   "source": [
    "# Question-5 Preprocess Feature Columns\n",
    "As you can see, there are several non-numeric columns that need to be converted! Many of them are simply yes/no,\n",
    "e.g. internet. These can be reasonably converted into 1/0 (binary) values.\n",
    "\n",
    "Other columns, like Mjob and Fjob, have more than two values, and are known as categorical variables.\n",
    "The recommended way to handle such a column is to create as many columns as possible values\n",
    "(e.g. Fjob_teacher, Fjob_other, Fjob_services, etc.), and assign a 1 to one of them and 0 to all others.\n",
    "\n",
    "These generated columns are sometimes called dummy variables, and we will use the pandas.get_dummies() function\n",
    "to perform this transformation. Run the code cell below to perform the preprocessing routine discussed in this section."
   ]
  },
  {
   "cell_type": "code",
   "execution_count": 14,
   "id": "d176d452",
   "metadata": {},
   "outputs": [
    {
     "data": {
      "text/html": [
       "<div>\n",
       "<style scoped>\n",
       "    .dataframe tbody tr th:only-of-type {\n",
       "        vertical-align: middle;\n",
       "    }\n",
       "\n",
       "    .dataframe tbody tr th {\n",
       "        vertical-align: top;\n",
       "    }\n",
       "\n",
       "    .dataframe thead th {\n",
       "        text-align: right;\n",
       "    }\n",
       "</style>\n",
       "<table border=\"1\" class=\"dataframe\">\n",
       "  <thead>\n",
       "    <tr style=\"text-align: right;\">\n",
       "      <th></th>\n",
       "      <th>school_GP</th>\n",
       "      <th>school_MS</th>\n",
       "      <th>sex_F</th>\n",
       "      <th>sex_M</th>\n",
       "      <th>age</th>\n",
       "      <th>address_R</th>\n",
       "      <th>address_U</th>\n",
       "      <th>famsize_GT3</th>\n",
       "      <th>famsize_LE3</th>\n",
       "      <th>Pstatus_A</th>\n",
       "      <th>...</th>\n",
       "      <th>higher</th>\n",
       "      <th>internet</th>\n",
       "      <th>romantic</th>\n",
       "      <th>famrel</th>\n",
       "      <th>freetime</th>\n",
       "      <th>goout</th>\n",
       "      <th>Dalc</th>\n",
       "      <th>Walc</th>\n",
       "      <th>health</th>\n",
       "      <th>absences</th>\n",
       "    </tr>\n",
       "  </thead>\n",
       "  <tbody>\n",
       "    <tr>\n",
       "      <th>0</th>\n",
       "      <td>1</td>\n",
       "      <td>0</td>\n",
       "      <td>1</td>\n",
       "      <td>0</td>\n",
       "      <td>18</td>\n",
       "      <td>0</td>\n",
       "      <td>1</td>\n",
       "      <td>1</td>\n",
       "      <td>0</td>\n",
       "      <td>1</td>\n",
       "      <td>...</td>\n",
       "      <td>1</td>\n",
       "      <td>0</td>\n",
       "      <td>0</td>\n",
       "      <td>4</td>\n",
       "      <td>3</td>\n",
       "      <td>4</td>\n",
       "      <td>1</td>\n",
       "      <td>1</td>\n",
       "      <td>3</td>\n",
       "      <td>6</td>\n",
       "    </tr>\n",
       "    <tr>\n",
       "      <th>1</th>\n",
       "      <td>1</td>\n",
       "      <td>0</td>\n",
       "      <td>1</td>\n",
       "      <td>0</td>\n",
       "      <td>17</td>\n",
       "      <td>0</td>\n",
       "      <td>1</td>\n",
       "      <td>1</td>\n",
       "      <td>0</td>\n",
       "      <td>0</td>\n",
       "      <td>...</td>\n",
       "      <td>1</td>\n",
       "      <td>1</td>\n",
       "      <td>0</td>\n",
       "      <td>5</td>\n",
       "      <td>3</td>\n",
       "      <td>3</td>\n",
       "      <td>1</td>\n",
       "      <td>1</td>\n",
       "      <td>3</td>\n",
       "      <td>4</td>\n",
       "    </tr>\n",
       "    <tr>\n",
       "      <th>2</th>\n",
       "      <td>1</td>\n",
       "      <td>0</td>\n",
       "      <td>1</td>\n",
       "      <td>0</td>\n",
       "      <td>15</td>\n",
       "      <td>0</td>\n",
       "      <td>1</td>\n",
       "      <td>0</td>\n",
       "      <td>1</td>\n",
       "      <td>0</td>\n",
       "      <td>...</td>\n",
       "      <td>1</td>\n",
       "      <td>1</td>\n",
       "      <td>0</td>\n",
       "      <td>4</td>\n",
       "      <td>3</td>\n",
       "      <td>2</td>\n",
       "      <td>2</td>\n",
       "      <td>3</td>\n",
       "      <td>3</td>\n",
       "      <td>10</td>\n",
       "    </tr>\n",
       "    <tr>\n",
       "      <th>3</th>\n",
       "      <td>1</td>\n",
       "      <td>0</td>\n",
       "      <td>1</td>\n",
       "      <td>0</td>\n",
       "      <td>15</td>\n",
       "      <td>0</td>\n",
       "      <td>1</td>\n",
       "      <td>1</td>\n",
       "      <td>0</td>\n",
       "      <td>0</td>\n",
       "      <td>...</td>\n",
       "      <td>1</td>\n",
       "      <td>1</td>\n",
       "      <td>1</td>\n",
       "      <td>3</td>\n",
       "      <td>2</td>\n",
       "      <td>2</td>\n",
       "      <td>1</td>\n",
       "      <td>1</td>\n",
       "      <td>5</td>\n",
       "      <td>2</td>\n",
       "    </tr>\n",
       "    <tr>\n",
       "      <th>4</th>\n",
       "      <td>1</td>\n",
       "      <td>0</td>\n",
       "      <td>1</td>\n",
       "      <td>0</td>\n",
       "      <td>16</td>\n",
       "      <td>0</td>\n",
       "      <td>1</td>\n",
       "      <td>1</td>\n",
       "      <td>0</td>\n",
       "      <td>0</td>\n",
       "      <td>...</td>\n",
       "      <td>1</td>\n",
       "      <td>0</td>\n",
       "      <td>0</td>\n",
       "      <td>4</td>\n",
       "      <td>3</td>\n",
       "      <td>2</td>\n",
       "      <td>1</td>\n",
       "      <td>2</td>\n",
       "      <td>5</td>\n",
       "      <td>4</td>\n",
       "    </tr>\n",
       "  </tbody>\n",
       "</table>\n",
       "<p>5 rows × 48 columns</p>\n",
       "</div>"
      ],
      "text/plain": [
       "   school_GP  school_MS  sex_F  sex_M  age  address_R  address_U  famsize_GT3  \\\n",
       "0          1          0      1      0   18          0          1            1   \n",
       "1          1          0      1      0   17          0          1            1   \n",
       "2          1          0      1      0   15          0          1            0   \n",
       "3          1          0      1      0   15          0          1            1   \n",
       "4          1          0      1      0   16          0          1            1   \n",
       "\n",
       "   famsize_LE3  Pstatus_A  ...  higher  internet  romantic  famrel  freetime  \\\n",
       "0            0          1  ...       1         0         0       4         3   \n",
       "1            0          0  ...       1         1         0       5         3   \n",
       "2            1          0  ...       1         1         0       4         3   \n",
       "3            0          0  ...       1         1         1       3         2   \n",
       "4            0          0  ...       1         0         0       4         3   \n",
       "\n",
       "   goout  Dalc  Walc  health  absences  \n",
       "0      4     1     1       3         6  \n",
       "1      3     1     1       3         4  \n",
       "2      2     2     3       3        10  \n",
       "3      2     1     1       5         2  \n",
       "4      2     1     2       5         4  \n",
       "\n",
       "[5 rows x 48 columns]"
      ]
     },
     "execution_count": 14,
     "metadata": {},
     "output_type": "execute_result"
    }
   ],
   "source": [
    "def preprocess_features(X):\n",
    "    # Initialize new output DataFrame\n",
    "    output = pd.DataFrame(index = X.index)\n",
    "\n",
    "    for col, col_data in X.iteritems():\n",
    "        \n",
    "        # If data type is non-numeric, replace all yes/no values with 1/0\n",
    "        if col_data.dtype == object:\n",
    "            col_data = col_data.replace(['yes', 'no'],[1, 0])\n",
    "\n",
    "        # If data type is categorical, convert to dummy variables\n",
    "        if col_data.dtype == object:\n",
    "            col_data = pd.get_dummies(col_data, prefix = col)  \n",
    "        \n",
    "        output = output.join(col_data)\n",
    "    \n",
    "    return output\n",
    "\n",
    "x = preprocess_features(x)\n",
    "x.head()"
   ]
  },
  {
   "cell_type": "code",
   "execution_count": 15,
   "id": "ba2223de",
   "metadata": {},
   "outputs": [
    {
     "name": "stdout",
     "output_type": "stream",
     "text": [
      "['school_GP', 'school_MS', 'sex_F', 'sex_M', 'age', 'address_R', 'address_U', 'famsize_GT3', 'famsize_LE3', 'Pstatus_A', 'Pstatus_T', 'Medu', 'Fedu', 'Mjob_at_home', 'Mjob_health', 'Mjob_other', 'Mjob_services', 'Mjob_teacher', 'Fjob_at_home', 'Fjob_health', 'Fjob_other', 'Fjob_services', 'Fjob_teacher', 'reason_course', 'reason_home', 'reason_other', 'reason_reputation', 'guardian_father', 'guardian_mother', 'guardian_other', 'traveltime', 'studytime', 'failures', 'schoolsup', 'famsup', 'paid', 'activities', 'nursery', 'higher', 'internet', 'romantic', 'famrel', 'freetime', 'goout', 'Dalc', 'Walc', 'health', 'absences']\n"
     ]
    }
   ],
   "source": [
    "print(x.columns.tolist())"
   ]
  },
  {
   "cell_type": "markdown",
   "id": "3c11df03",
   "metadata": {},
   "source": [
    "# Question - 6 Implementation: Training and Testing Data Split\n",
    "So far, we have converted all categorical features into numeric values. For the next step, we split the data (both features and corresponding labels) into training and test sets. you will need to implement the following:\n",
    "\n",
    "- Randomly shuffle and split the data (X, y) into training and testing subsets.\n",
    "\n",
    " * Use 300 training points (approximately 75%) and 95 testing points (approximately 25%).\n",
    " * Set a random_state for the function(s) you use, if provided.\n",
    " * Store the results in X_train, X_test, y_train, and y_test."
   ]
  },
  {
   "cell_type": "code",
   "execution_count": 16,
   "id": "f8a7a821",
   "metadata": {},
   "outputs": [
    {
     "name": "stdout",
     "output_type": "stream",
     "text": [
      "Training set has 300 samples.\n",
      "Testing set has 95 samples.\n"
     ]
    }
   ],
   "source": [
    "# splitting the data into train and test\n",
    "from sklearn.model_selection import train_test_split\n",
    "\n",
    "#Set the number of training points\n",
    "num_train = 300\n",
    "# Set the number of testing points\n",
    "num_test = x.shape[0] - num_train\n",
    "\n",
    "x_train, x_test, y_train, y_test = train_test_split(x, y, stratify = y, test_size=95, random_state=42)\n",
    "\n",
    "# Show the results of the split\n",
    "print (\"Training set has {} samples.\".format(x_train.shape[0]))\n",
    "print (\"Testing set has {} samples.\".format(x_test.shape[0]))"
   ]
  },
  {
   "cell_type": "markdown",
   "id": "d5326bb0",
   "metadata": {},
   "source": [
    "# Question - 7 Training and Evaluating Models\n",
    "In this section, you will choose 3 supervised learning models that are appropriate for this problem and available in \n",
    "scikit-learn. You will first discuss the reasoning behind choosing these three models by considering\n",
    "what you know about the data and each model's strengths and weaknesses.\n",
    "You will then fit the model to varying sizes of training data and measure the accuracy score."
   ]
  },
  {
   "cell_type": "markdown",
   "id": "f83bfa9a",
   "metadata": {},
   "source": [
    "**In this section, I will choose 3 supervised learning models that are appropriate for this problem which is available in scikit-learn.**"
   ]
  },
  {
   "cell_type": "markdown",
   "id": "908870d5",
   "metadata": {},
   "source": [
    "**1.Decision Tree Classifier**"
   ]
  },
  {
   "cell_type": "markdown",
   "id": "7b4d596f",
   "metadata": {},
   "source": [
    "The **general applications of Decision Tree Classifier** In decision analysis, a decision tree can be used to\n",
    "visually and explicitly represent decisions and decision making. In data mining, a decision tree describes data\n",
    "but not decisions; rather the resulting classification tree can be an input for decision making"
   ]
  },
  {
   "cell_type": "markdown",
   "id": "dca0fd0d",
   "metadata": {},
   "source": [
    "**Strengths and Weaknesses**\n",
    "   + Intuitive and simple to understand and interpret\n",
    "   + Able to handle both numerical and categorical data\n",
    "   + Furthermore, it is a white box model. If a given situation is observable in a model the explanation \n",
    "     for the condition is easily explained by boolean logic.\n",
    "-----------    \n",
    "   - Easy to overfitting if we don’t tune the parameters.\n",
    "   - Data including categorical variables with different numbers of levels, information gain in decision trees is\n",
    "     biased in favor of those attributes with more levels.\n",
    "   - Decision tree learning algorithms are based on heuristics such as the greedy algorithm where locally-optimal decisions\n",
    "     are made at each node.\n",
    "     \n",
    "**Reason:** The reason I chose this model instead of using random forest is because somehow if we don’t tune the models both decision tree and random forest tend to overfit easily. As a result, I chose Decision Tree at the first place so as to get more intuitive results."
   ]
  },
  {
   "cell_type": "markdown",
   "id": "9e9a274f",
   "metadata": {},
   "source": [
    "**2.Support Vector Machine**"
   ]
  },
  {
   "cell_type": "markdown",
   "id": "8a792bec",
   "metadata": {},
   "source": [
    "The **general applications of Support Vector Machine:**\n",
    "Support Vector Machine can be used for both classification and regression problems. For classification,\n",
    "general applications can be text categorization or image classification."
   ]
  },
  {
   "cell_type": "markdown",
   "id": "5be885a9",
   "metadata": {},
   "source": [
    "**Strengths and Weaknesses**\n",
    "   + Works well in high dimensional spaces even if there are more dimensions than samples.\n",
    "   + Memory efficient for using support vectors.\n",
    "   + Using a nonlinear kernel trick, we can capture a more complex relationship between the datapoints.\n",
    "------------  \n",
    "   - For a large dataset with a lot of noise, SVMs will be slow and possibly produce overfitting.\n",
    "   - If there are too many features than samples, SVM will perform poorly\n",
    "    \n",
    "**Reason:** The reason I chose this model, a non linear SVM will work better than a linear SVM because there are \n",
    "    30 features and based on that the data will not be linearly separable. Furthermore, the default kernel in sklearn\n",
    "    is rbf which means I can see the expecting result before tuning the parameters. Also Non Linear SVM works well \n",
    "    for a high dimensional data like the student data."
   ]
  },
  {
   "cell_type": "markdown",
   "id": "3e926a9b",
   "metadata": {},
   "source": [
    "**3.K-Nearest Neighbors**"
   ]
  },
  {
   "cell_type": "markdown",
   "id": "27efadf3",
   "metadata": {},
   "source": [
    "The **general applications of K-Nearest Neighbors:** K nearest neighbors is used as a base classifier in this project. \n",
    "    General application for KNN can be computer vision or recommending systems."
   ]
  },
  {
   "cell_type": "markdown",
   "id": "cf476fc1",
   "metadata": {},
   "source": [
    "**Strengths and Weaknesses**\n",
    "\n",
    "  + Reduces variance and avoids overfitting.\n",
    "  + KNN could be successful in classification problems where the decision boundary is irregular.\n",
    "--------------\n",
    "  - KNN stores instances of the training data and computes nearest neighbors of each point so running time\n",
    "    is very slow compared to other models when predicting.\n",
    "  - KNN is a lazy learner. It will be slow during prediction when too many data points.\n",
    "\n",
    "**Reason:** Based on the features, I predicted that the decision boundary would be not linear at all and KNN seems to be\n",
    "       a non parametric thus the decision boundary is flexible.\n",
    "  "
   ]
  },
  {
   "cell_type": "code",
   "execution_count": 17,
   "id": "2fa19c8b",
   "metadata": {},
   "outputs": [],
   "source": [
    "# Import the three supervised learning models from sklearn\n",
    "from sklearn import svm\n",
    "from sklearn.tree import DecisionTreeClassifier\n",
    "from sklearn.neighbors import KNeighborsClassifier"
   ]
  },
  {
   "cell_type": "code",
   "execution_count": 18,
   "id": "00f20a64",
   "metadata": {},
   "outputs": [],
   "source": [
    "# fit model-1  on traning data \n",
    "model = svm.SVC()\n",
    "model.fit(x_train,y_train)\n",
    "# predict on the test data\n",
    "prediction=model.predict(x_test)"
   ]
  },
  {
   "cell_type": "code",
   "execution_count": 19,
   "id": "057b66ab",
   "metadata": {},
   "outputs": [
    {
     "name": "stdout",
     "output_type": "stream",
     "text": [
      "Accuracy is: 0.6736842105263158\n"
     ]
    }
   ],
   "source": [
    "# calculate the accuracy score\n",
    "from sklearn import metrics\n",
    "from sklearn.metrics import accuracy_score, precision_score, recall_score, f1_score\n",
    "print(\"Accuracy is:\", metrics.accuracy_score(prediction,y_test))"
   ]
  },
  {
   "cell_type": "code",
   "execution_count": 20,
   "id": "243da9fd",
   "metadata": {},
   "outputs": [],
   "source": [
    "# fit the model-2 on traning data and predict on the test data and measure the accuracy.\n",
    "acc_values = []\n",
    "neighbors = np.arange(3,15)\n",
    "for k in neighbors:\n",
    "    model = KNeighborsClassifier(n_neighbors=k, metric='minkowski')\n",
    "    model.fit(x_train, y_train)\n",
    "    prediction = model.predict(x_test)\n",
    "    acc = accuracy_score(y_test,prediction)\n",
    "    acc_values.append(acc)"
   ]
  },
  {
   "cell_type": "code",
   "execution_count": 21,
   "id": "f2b48b3d",
   "metadata": {},
   "outputs": [
    {
     "data": {
      "text/plain": [
       "Text(0, 0.5, 'accuracy')"
      ]
     },
     "execution_count": 21,
     "metadata": {},
     "output_type": "execute_result"
    },
    {
     "data": {
      "image/png": "[encoded data removed]",
      "text/plain": [
       "<Figure size 432x288 with 1 Axes>"
      ]
     },
     "metadata": {
      "needs_background": "light"
     },
     "output_type": "display_data"
    }
   ],
   "source": [
    "plt.plot(neighbors, acc_values, 'o-')\n",
    "plt.xlabel('k value')\n",
    "plt.ylabel('accuracy')"
   ]
  },
  {
   "cell_type": "code",
   "execution_count": 22,
   "id": "cc722e19",
   "metadata": {},
   "outputs": [
    {
     "name": "stdout",
     "output_type": "stream",
     "text": [
      "The accuracy of the KNN is 0.6842105263157895\n"
     ]
    }
   ],
   "source": [
    "model=KNeighborsClassifier(n_neighbors=3)\n",
    "model.fit(x_train,y_train)\n",
    "prediction=model.predict(x_test)\n",
    "print('The accuracy of the KNN is',metrics.accuracy_score(prediction,y_test))"
   ]
  },
  {
   "cell_type": "code",
   "execution_count": 23,
   "id": "8961439f",
   "metadata": {},
   "outputs": [
    {
     "name": "stdout",
     "output_type": "stream",
     "text": [
      "Accuracy: 0.6\n"
     ]
    }
   ],
   "source": [
    "# fit the model-3 on traning data and predict on the test data and measure the accuracy\n",
    "# Create Decision Tree classifer object\n",
    "clf = DecisionTreeClassifier()\n",
    "clf.fit(x_train,y_train)\n",
    "\n",
    "prediction=clf.predict(x_test)\n",
    "print(\"Accuracy:\",metrics.accuracy_score(prediction,y_test))"
   ]
  },
  {
   "cell_type": "markdown",
   "id": "0ef4a340",
   "metadata": {},
   "source": [
    "**In Scikit-learn, optimization of decision tree classifier performed by only pre-pruning.**\n",
    "Maximum depth of the tree can be used as a control variable for pre-pruning. In this example, \n",
    "We can plot a decision tree on the same data with **max_depth=3**. Other than pre-pruning parameters,\n",
    "We can also try other attribute selection measure such as **entropy.**"
   ]
  },
  {
   "cell_type": "code",
   "execution_count": 24,
   "id": "3938cd2e",
   "metadata": {},
   "outputs": [
    {
     "name": "stdout",
     "output_type": "stream",
     "text": [
      "Accuracy: 0.6631578947368421\n"
     ]
    }
   ],
   "source": [
    "# Create Decision Tree classifer object\n",
    "clf = DecisionTreeClassifier(criterion=\"entropy\", max_depth=3)\n",
    "# Train Decision Tree Classifer\n",
    "clf.fit(x_train,y_train)\n",
    "#predict on the test data\n",
    "prediction=clf.predict(x_test)\n",
    "print(\"Accuracy:\",metrics.accuracy_score(prediction,y_test))"
   ]
  },
  {
   "cell_type": "markdown",
   "id": "806e3b77",
   "metadata": {},
   "source": [
    "Here,the classification rate increased to 66.31%, which is better accuracy than the previous model."
   ]
  },
  {
   "cell_type": "markdown",
   "id": "d1e829d0",
   "metadata": {},
   "source": [
    "**Choosing the Best Model:-** \n",
    "Hence, the performance of **KNN** is much better than the other two models."
   ]
  }
 ],
 "metadata": {
  "kernelspec": {
   "display_name": "Python 3 (ipykernel)",
   "language": "python",
   "name": "python3"
  },
  "language_info": {
   "codemirror_mode": {
    "name": "ipython",
    "version": 3
   },
   "file_extension": ".py",
   "mimetype": "text/x-python",
   "name": "python",
   "nbconvert_exporter": "python",
   "pygments_lexer": "ipython3",
   "version": "3.8.12"
  }
 },
 "nbformat": 4,
 "nbformat_minor": 5
}
